{
 "cells": [
  {
   "cell_type": "markdown",
   "id": "305437c1",
   "metadata": {},
   "source": [
    "# Bird Strikes From 2000 - 2011"
   ]
  },
  {
   "cell_type": "code",
   "execution_count": 1,
   "id": "28415e9d",
   "metadata": {},
   "outputs": [],
   "source": [
    "import pandas as pd\n",
    "import numpy as np\n",
    "import matplotlib.pyplot as plt\n",
    "import seaborn as sns\n",
    "import warnings\n",
    "\n",
    "warnings.filterwarnings('ignore')\n",
    "\n",
    "pd.set_option('display.max_rows',None)\n",
    "pd.set_option('display.max_columns',None)"
   ]
  },
  {
   "cell_type": "code",
   "execution_count": 2,
   "id": "db26f9ec",
   "metadata": {},
   "outputs": [
    {
     "data": {
      "text/html": [
       "<div>\n",
       "<style scoped>\n",
       "    .dataframe tbody tr th:only-of-type {\n",
       "        vertical-align: middle;\n",
       "    }\n",
       "\n",
       "    .dataframe tbody tr th {\n",
       "        vertical-align: top;\n",
       "    }\n",
       "\n",
       "    .dataframe thead th {\n",
       "        text-align: right;\n",
       "    }\n",
       "</style>\n",
       "<table border=\"1\" class=\"dataframe\">\n",
       "  <thead>\n",
       "    <tr style=\"text-align: right;\">\n",
       "      <th></th>\n",
       "      <th>Record ID</th>\n",
       "      <th>Aircraft: Type</th>\n",
       "      <th>Airport: Name</th>\n",
       "      <th>Altitude bin</th>\n",
       "      <th>Aircraft: Make/Model</th>\n",
       "      <th>Wildlife: Number struck</th>\n",
       "      <th>Wildlife: Number Struck Actual</th>\n",
       "      <th>Effect: Impact to flight</th>\n",
       "      <th>FlightDate</th>\n",
       "      <th>Effect: Indicated Damage</th>\n",
       "      <th>Aircraft: Number of engines?</th>\n",
       "      <th>Aircraft: Airline/Operator</th>\n",
       "      <th>Origin State</th>\n",
       "      <th>When: Phase of flight</th>\n",
       "      <th>Conditions: Precipitation</th>\n",
       "      <th>Remains of wildlife collected?</th>\n",
       "      <th>Remains of wildlife sent to Smithsonian</th>\n",
       "      <th>Remarks</th>\n",
       "      <th>Wildlife: Size</th>\n",
       "      <th>Conditions: Sky</th>\n",
       "      <th>Wildlife: Species</th>\n",
       "      <th>Pilot warned of birds or wildlife?</th>\n",
       "      <th>Cost: Total $</th>\n",
       "      <th>Feet above ground</th>\n",
       "      <th>Number of people injured</th>\n",
       "      <th>Is Aircraft Large?</th>\n",
       "    </tr>\n",
       "  </thead>\n",
       "  <tbody>\n",
       "    <tr>\n",
       "      <th>0</th>\n",
       "      <td>202152</td>\n",
       "      <td>Airplane</td>\n",
       "      <td>LAGUARDIA NY</td>\n",
       "      <td>&gt; 1000 ft</td>\n",
       "      <td>B-737-400</td>\n",
       "      <td>Over 100</td>\n",
       "      <td>859</td>\n",
       "      <td>Engine Shut Down</td>\n",
       "      <td>11/23/00 0:00</td>\n",
       "      <td>Caused damage</td>\n",
       "      <td>2</td>\n",
       "      <td>US AIRWAYS*</td>\n",
       "      <td>New York</td>\n",
       "      <td>Climb</td>\n",
       "      <td>None</td>\n",
       "      <td>False</td>\n",
       "      <td>False</td>\n",
       "      <td>FLT 753. PILOT REPTD A HUNDRED BIRDS ON UNKN T...</td>\n",
       "      <td>Medium</td>\n",
       "      <td>No Cloud</td>\n",
       "      <td>Unknown bird - medium</td>\n",
       "      <td>N</td>\n",
       "      <td>30,736</td>\n",
       "      <td>1,500</td>\n",
       "      <td>0</td>\n",
       "      <td>Yes</td>\n",
       "    </tr>\n",
       "    <tr>\n",
       "      <th>1</th>\n",
       "      <td>208159</td>\n",
       "      <td>Airplane</td>\n",
       "      <td>DALLAS/FORT WORTH INTL ARPT</td>\n",
       "      <td>&lt; 1000 ft</td>\n",
       "      <td>MD-80</td>\n",
       "      <td>Over 100</td>\n",
       "      <td>424</td>\n",
       "      <td>None</td>\n",
       "      <td>7/25/01 0:00</td>\n",
       "      <td>Caused damage</td>\n",
       "      <td>2</td>\n",
       "      <td>AMERICAN AIRLINES</td>\n",
       "      <td>Texas</td>\n",
       "      <td>Landing Roll</td>\n",
       "      <td>None</td>\n",
       "      <td>False</td>\n",
       "      <td>False</td>\n",
       "      <td>102 CARCASSES FOUND. 1 LDG LIGHT ON NOSE GEAR ...</td>\n",
       "      <td>Small</td>\n",
       "      <td>Some Cloud</td>\n",
       "      <td>Rock pigeon</td>\n",
       "      <td>Y</td>\n",
       "      <td>0</td>\n",
       "      <td>0</td>\n",
       "      <td>0</td>\n",
       "      <td>No</td>\n",
       "    </tr>\n",
       "  </tbody>\n",
       "</table>\n",
       "</div>"
      ],
      "text/plain": [
       "   Record ID Aircraft: Type                Airport: Name Altitude bin  \\\n",
       "0     202152       Airplane                 LAGUARDIA NY    > 1000 ft   \n",
       "1     208159       Airplane  DALLAS/FORT WORTH INTL ARPT    < 1000 ft   \n",
       "\n",
       "  Aircraft: Make/Model Wildlife: Number struck  \\\n",
       "0            B-737-400                Over 100   \n",
       "1                MD-80                Over 100   \n",
       "\n",
       "   Wildlife: Number Struck Actual Effect: Impact to flight     FlightDate  \\\n",
       "0                             859         Engine Shut Down  11/23/00 0:00   \n",
       "1                             424                     None   7/25/01 0:00   \n",
       "\n",
       "  Effect: Indicated Damage Aircraft: Number of engines?  \\\n",
       "0            Caused damage                            2   \n",
       "1            Caused damage                            2   \n",
       "\n",
       "  Aircraft: Airline/Operator Origin State When: Phase of flight  \\\n",
       "0                US AIRWAYS*     New York                 Climb   \n",
       "1          AMERICAN AIRLINES        Texas          Landing Roll   \n",
       "\n",
       "  Conditions: Precipitation  Remains of wildlife collected?  \\\n",
       "0                      None                           False   \n",
       "1                      None                           False   \n",
       "\n",
       "   Remains of wildlife sent to Smithsonian  \\\n",
       "0                                    False   \n",
       "1                                    False   \n",
       "\n",
       "                                             Remarks Wildlife: Size  \\\n",
       "0  FLT 753. PILOT REPTD A HUNDRED BIRDS ON UNKN T...         Medium   \n",
       "1  102 CARCASSES FOUND. 1 LDG LIGHT ON NOSE GEAR ...          Small   \n",
       "\n",
       "  Conditions: Sky      Wildlife: Species Pilot warned of birds or wildlife?  \\\n",
       "0        No Cloud  Unknown bird - medium                                  N   \n",
       "1      Some Cloud            Rock pigeon                                  Y   \n",
       "\n",
       "  Cost: Total $ Feet above ground  Number of people injured Is Aircraft Large?  \n",
       "0        30,736             1,500                         0                Yes  \n",
       "1             0                 0                         0                 No  "
      ]
     },
     "execution_count": 2,
     "metadata": {},
     "output_type": "execute_result"
    }
   ],
   "source": [
    "df = pd.read_csv('Bird Strikes.csv')\n",
    "df.head(2)"
   ]
  },
  {
   "cell_type": "code",
   "execution_count": 3,
   "id": "44dee175",
   "metadata": {
    "scrolled": false
   },
   "outputs": [
    {
     "name": "stdout",
     "output_type": "stream",
     "text": [
      "<class 'pandas.core.frame.DataFrame'>\n",
      "RangeIndex: 25558 entries, 0 to 25557\n",
      "Data columns (total 26 columns):\n",
      " #   Column                                   Non-Null Count  Dtype \n",
      "---  ------                                   --------------  ----- \n",
      " 0   Record ID                                25558 non-null  int64 \n",
      " 1   Aircraft: Type                           25429 non-null  object\n",
      " 2   Airport: Name                            25429 non-null  object\n",
      " 3   Altitude bin                             25429 non-null  object\n",
      " 4   Aircraft: Make/Model                     25558 non-null  object\n",
      " 5   Wildlife: Number struck                  25429 non-null  object\n",
      " 6   Wildlife: Number Struck Actual           25558 non-null  int64 \n",
      " 7   Effect: Impact to flight                 25429 non-null  object\n",
      " 8   FlightDate                               25429 non-null  object\n",
      " 9   Effect: Indicated Damage                 25558 non-null  object\n",
      " 10  Aircraft: Number of engines?             25291 non-null  object\n",
      " 11  Aircraft: Airline/Operator               25429 non-null  object\n",
      " 12  Origin State                             25109 non-null  object\n",
      " 13  When: Phase of flight                    25429 non-null  object\n",
      " 14  Conditions: Precipitation                25558 non-null  object\n",
      " 15  Remains of wildlife collected?           25558 non-null  bool  \n",
      " 16  Remains of wildlife sent to Smithsonian  25558 non-null  bool  \n",
      " 17  Remarks                                  20787 non-null  object\n",
      " 18  Wildlife: Size                           25429 non-null  object\n",
      " 19  Conditions: Sky                          25558 non-null  object\n",
      " 20  Wildlife: Species                        25558 non-null  object\n",
      " 21  Pilot warned of birds or wildlife?       25429 non-null  object\n",
      " 22  Cost: Total $                            25558 non-null  object\n",
      " 23  Feet above ground                        25429 non-null  object\n",
      " 24  Number of people injured                 25558 non-null  int64 \n",
      " 25  Is Aircraft Large?                       25429 non-null  object\n",
      "dtypes: bool(2), int64(3), object(21)\n",
      "memory usage: 4.7+ MB\n"
     ]
    }
   ],
   "source": [
    "df.info()"
   ]
  },
  {
   "cell_type": "code",
   "execution_count": 4,
   "id": "89e609d2",
   "metadata": {},
   "outputs": [
    {
     "data": {
      "text/plain": [
       "(25558, 26)"
      ]
     },
     "execution_count": 4,
     "metadata": {},
     "output_type": "execute_result"
    }
   ],
   "source": [
    "df.shape"
   ]
  },
  {
   "cell_type": "code",
   "execution_count": 5,
   "id": "949a3634",
   "metadata": {},
   "outputs": [
    {
     "data": {
      "text/plain": [
       "Record ID                                     0\n",
       "Aircraft: Type                              129\n",
       "Airport: Name                               129\n",
       "Altitude bin                                129\n",
       "Aircraft: Make/Model                          0\n",
       "Wildlife: Number struck                     129\n",
       "Wildlife: Number Struck Actual                0\n",
       "Effect: Impact to flight                    129\n",
       "FlightDate                                  129\n",
       "Effect: Indicated Damage                      0\n",
       "Aircraft: Number of engines?                267\n",
       "Aircraft: Airline/Operator                  129\n",
       "Origin State                                449\n",
       "When: Phase of flight                       129\n",
       "Conditions: Precipitation                     0\n",
       "Remains of wildlife collected?                0\n",
       "Remains of wildlife sent to Smithsonian       0\n",
       "Remarks                                    4771\n",
       "Wildlife: Size                              129\n",
       "Conditions: Sky                               0\n",
       "Wildlife: Species                             0\n",
       "Pilot warned of birds or wildlife?          129\n",
       "Cost: Total $                                 0\n",
       "Feet above ground                           129\n",
       "Number of people injured                      0\n",
       "Is Aircraft Large?                          129\n",
       "dtype: int64"
      ]
     },
     "execution_count": 5,
     "metadata": {},
     "output_type": "execute_result"
    }
   ],
   "source": [
    "df.isnull().sum()"
   ]
  },
  {
   "cell_type": "code",
   "execution_count": 6,
   "id": "912eba8f",
   "metadata": {
    "scrolled": true
   },
   "outputs": [
    {
     "data": {
      "text/plain": [
       "0.27525627983410283"
      ]
     },
     "execution_count": 6,
     "metadata": {},
     "output_type": "execute_result"
    }
   ],
   "source": [
    "# Here the null values is not under 5% so we can't able to remove the null values\n",
    "df.isnull().sum().sum()/df.shape[0]"
   ]
  },
  {
   "cell_type": "markdown",
   "id": "79a84229",
   "metadata": {},
   "source": [
    "### Aircraft: Type"
   ]
  },
  {
   "cell_type": "code",
   "execution_count": 7,
   "id": "dde07148",
   "metadata": {},
   "outputs": [
    {
     "data": {
      "text/plain": [
       "Airplane    25429\n",
       "Name: Aircraft: Type, dtype: int64"
      ]
     },
     "execution_count": 7,
     "metadata": {},
     "output_type": "execute_result"
    }
   ],
   "source": [
    "# No point in keeping this columns since all the values are Aircraft\n",
    "df['Aircraft: Type'].value_counts()"
   ]
  },
  {
   "cell_type": "code",
   "execution_count": 8,
   "id": "80a48244",
   "metadata": {},
   "outputs": [],
   "source": [
    "df.drop(columns=['Aircraft: Type'],axis=1,inplace=True)"
   ]
  },
  {
   "cell_type": "markdown",
   "id": "eaa92bd3",
   "metadata": {},
   "source": [
    "## Aircraft Name"
   ]
  },
  {
   "cell_type": "code",
   "execution_count": 9,
   "id": "61bcf0e0",
   "metadata": {},
   "outputs": [
    {
     "data": {
      "text/plain": [
       "1109"
      ]
     },
     "execution_count": 9,
     "metadata": {},
     "output_type": "execute_result"
    }
   ],
   "source": [
    "# I checked there are no mispelled or out of the ordinary values in this features\n",
    "df['Airport: Name'].nunique()"
   ]
  },
  {
   "cell_type": "code",
   "execution_count": 10,
   "id": "748e87d3",
   "metadata": {},
   "outputs": [],
   "source": [
    "# not a lot of null values and it can't be filled with mode since mostly values are unique\n",
    "df.dropna(subset=['Airport: Name'],inplace=True)"
   ]
  },
  {
   "cell_type": "markdown",
   "id": "839a2f3f",
   "metadata": {},
   "source": [
    "### Altitute"
   ]
  },
  {
   "cell_type": "code",
   "execution_count": 11,
   "id": "d589e090",
   "metadata": {
    "scrolled": true
   },
   "outputs": [
    {
     "data": {
      "text/plain": [
       "< 1000 ft    20556\n",
       "> 1000 ft     4873\n",
       "Name: Altitude bin, dtype: int64"
      ]
     },
     "execution_count": 11,
     "metadata": {},
     "output_type": "execute_result"
    }
   ],
   "source": [
    "# data is skewed towards '>1000 ft' but it'll still help in analysis\n",
    "df['Altitude bin'].value_counts()"
   ]
  },
  {
   "cell_type": "code",
   "execution_count": 12,
   "id": "f78f5836",
   "metadata": {},
   "outputs": [],
   "source": [
    "# filling values based on mode\n",
    "df['Altitude bin'] = df['Altitude bin'].str.strip()\n",
    "df['Altitude bin'].fillna('< 1000 ft',inplace=True)"
   ]
  },
  {
   "cell_type": "code",
   "execution_count": 13,
   "id": "ba20de73",
   "metadata": {},
   "outputs": [
    {
     "data": {
      "text/plain": [
       "Record ID                                     0\n",
       "Airport: Name                                 0\n",
       "Altitude bin                                  0\n",
       "Aircraft: Make/Model                          0\n",
       "Wildlife: Number struck                       0\n",
       "Wildlife: Number Struck Actual                0\n",
       "Effect: Impact to flight                      0\n",
       "FlightDate                                    0\n",
       "Effect: Indicated Damage                      0\n",
       "Aircraft: Number of engines?                234\n",
       "Aircraft: Airline/Operator                    0\n",
       "Origin State                                449\n",
       "When: Phase of flight                         0\n",
       "Conditions: Precipitation                     0\n",
       "Remains of wildlife collected?                0\n",
       "Remains of wildlife sent to Smithsonian       0\n",
       "Remarks                                    4761\n",
       "Wildlife: Size                                0\n",
       "Conditions: Sky                               0\n",
       "Wildlife: Species                             0\n",
       "Pilot warned of birds or wildlife?            0\n",
       "Cost: Total $                                 0\n",
       "Feet above ground                             0\n",
       "Number of people injured                      0\n",
       "Is Aircraft Large?                            0\n",
       "dtype: int64"
      ]
     },
     "execution_count": 13,
     "metadata": {},
     "output_type": "execute_result"
    }
   ],
   "source": [
    "# Looks like those features with 129 mission values has a pattern of missingness and helped me save a lot of work\n",
    "df.isnull().sum()"
   ]
  },
  {
   "cell_type": "code",
   "execution_count": 14,
   "id": "3cad6927",
   "metadata": {},
   "outputs": [
    {
     "data": {
      "text/plain": [
       "(25429, 25)"
      ]
     },
     "execution_count": 14,
     "metadata": {},
     "output_type": "execute_result"
    }
   ],
   "source": [
    "df.shape"
   ]
  },
  {
   "cell_type": "markdown",
   "id": "16169431",
   "metadata": {},
   "source": [
    "### Aircraft: Make/Model"
   ]
  },
  {
   "cell_type": "code",
   "execution_count": 15,
   "id": "faea65d1",
   "metadata": {
    "scrolled": true
   },
   "outputs": [
    {
     "data": {
      "text/plain": [
       "324"
      ]
     },
     "execution_count": 15,
     "metadata": {},
     "output_type": "execute_result"
    }
   ],
   "source": [
    "# lots of uniques values and also cleaned (not a single missplelled values) it will help in making tootips in the dashboard\n",
    "df['Aircraft: Make/Model'].nunique()"
   ]
  },
  {
   "cell_type": "markdown",
   "id": "06eb5ed5",
   "metadata": {},
   "source": [
    "### Wildlife: Number struck"
   ]
  },
  {
   "cell_type": "code",
   "execution_count": 16,
   "id": "5011854f",
   "metadata": {
    "scrolled": false
   },
   "outputs": [
    {
     "data": {
      "text/plain": [
       "<AxesSubplot:xlabel='Wildlife: Number struck', ylabel='count'>"
      ]
     },
     "execution_count": 16,
     "metadata": {},
     "output_type": "execute_result"
    },
    {
     "data": {
      "image/png": "[encoded data removed]",
      "text/plain": [
       "<Figure size 432x288 with 1 Axes>"
      ]
     },
     "metadata": {
      "needs_background": "light"
     },
     "output_type": "display_data"
    }
   ],
   "source": [
    "# This shows that birds inflicting flights problems are in less number\n",
    "sns.countplot(df['Wildlife: Number struck'])"
   ]
  },
  {
   "cell_type": "markdown",
   "id": "3b669c32",
   "metadata": {},
   "source": [
    "### Wildlife: Number Struck Actual"
   ]
  },
  {
   "cell_type": "code",
   "execution_count": 17,
   "id": "087724dc",
   "metadata": {},
   "outputs": [
    {
     "data": {
      "text/plain": [
       "<AxesSubplot:xlabel='Wildlife: Number Struck Actual', ylabel='Density'>"
      ]
     },
     "execution_count": 17,
     "metadata": {},
     "output_type": "execute_result"
    },
    {
     "data": {
      "image/png": "[encoded data removed]",
      "text/plain": [
       "<Figure size 432x288 with 1 Axes>"
      ]
     },
     "metadata": {
      "needs_background": "light"
     },
     "output_type": "display_data"
    }
   ],
   "source": [
    "# even the 'actual numbers of wildlife struck' shows that less numbers of birds is enought to induce problems in flights\n",
    "# no point in removing outliers since mostly data is looking highly skewed means removing outliers will remove major chunk of the data\n",
    "sns.distplot(df['Wildlife: Number Struck Actual'])"
   ]
  },
  {
   "cell_type": "markdown",
   "id": "3932410f",
   "metadata": {},
   "source": [
    "## Effect: Impact to flight"
   ]
  },
  {
   "cell_type": "code",
   "execution_count": 18,
   "id": "67dca790",
   "metadata": {
    "scrolled": false
   },
   "outputs": [
    {
     "data": {
      "image/png": "[encoded data removed]",
      "text/plain": [
       "<Figure size 432x288 with 1 Axes>"
      ]
     },
     "metadata": {
      "needs_background": "light"
     },
     "output_type": "display_data"
    }
   ],
   "source": [
    "# There is lot less chance of having engine shut down which shows the durability of the flights made in 2000 - 2011.\n",
    "# Main focus of production of flights are focused on safety of passenegers Could be the reason behind is 9/11\n",
    "# incident happened in 2001 in New York\n",
    "sns.countplot(df['Effect: Impact to flight'])\n",
    "plt.xticks(rotation=45)\n",
    "plt.show()"
   ]
  },
  {
   "cell_type": "markdown",
   "id": "462b7ea3",
   "metadata": {},
   "source": [
    "### FlightDate"
   ]
  },
  {
   "cell_type": "code",
   "execution_count": 19,
   "id": "a36228b3",
   "metadata": {},
   "outputs": [],
   "source": [
    "# Changing type of FLight Date to date time\n",
    "df['FlightDate'] = pd.to_datetime(df['FlightDate'])"
   ]
  },
  {
   "cell_type": "code",
   "execution_count": 20,
   "id": "f96d124d",
   "metadata": {
    "scrolled": true
   },
   "outputs": [
    {
     "data": {
      "text/plain": [
       "0   2000-11-23\n",
       "1   2001-07-25\n",
       "2   2001-09-14\n",
       "3   2002-09-05\n",
       "4   2003-06-23\n",
       "Name: FlightDate, dtype: datetime64[ns]"
      ]
     },
     "execution_count": 20,
     "metadata": {},
     "output_type": "execute_result"
    }
   ],
   "source": [
    "df['FlightDate'].head()"
   ]
  },
  {
   "cell_type": "markdown",
   "id": "3c374045",
   "metadata": {},
   "source": [
    "### Effect: Indicated Damage"
   ]
  },
  {
   "cell_type": "code",
   "execution_count": 21,
   "id": "c09bb844",
   "metadata": {},
   "outputs": [
    {
     "data": {
      "text/plain": [
       "No damage        22975\n",
       "Caused damage     2454\n",
       "Name: Effect: Indicated Damage, dtype: int64"
      ]
     },
     "execution_count": 21,
     "metadata": {},
     "output_type": "execute_result"
    }
   ],
   "source": [
    "# If I were to do prediction on this, this feature would create problem since 'caused damange' incidents are low\n",
    "df['Effect: Indicated Damage'].value_counts()"
   ]
  },
  {
   "cell_type": "code",
   "execution_count": 22,
   "id": "f8db98c0",
   "metadata": {},
   "outputs": [
    {
     "data": {
      "text/plain": [
       "2    23002\n",
       "1     1240\n",
       "3      564\n",
       "4      388\n",
       "C        1\n",
       "Name: Aircraft: Number of engines?, dtype: int64"
      ]
     },
     "execution_count": 22,
     "metadata": {},
     "output_type": "execute_result"
    }
   ],
   "source": [
    "# C is a wrong entry better if I remove it\n",
    "df['Aircraft: Number of engines?'].value_counts()"
   ]
  },
  {
   "cell_type": "code",
   "execution_count": 23,
   "id": "8cabb81a",
   "metadata": {},
   "outputs": [],
   "source": [
    "df = df[df['Aircraft: Number of engines?'] != \"C\"]"
   ]
  },
  {
   "cell_type": "code",
   "execution_count": 24,
   "id": "d990672b",
   "metadata": {},
   "outputs": [
    {
     "data": {
      "text/plain": [
       "234"
      ]
     },
     "execution_count": 24,
     "metadata": {},
     "output_type": "execute_result"
    }
   ],
   "source": [
    "# Filling na values with mode\n",
    "df['Aircraft: Number of engines?'].isna().sum()"
   ]
  },
  {
   "cell_type": "code",
   "execution_count": 25,
   "id": "25943eb6",
   "metadata": {},
   "outputs": [],
   "source": [
    "df['Aircraft: Number of engines?'].fillna('2',inplace=True)"
   ]
  },
  {
   "cell_type": "code",
   "execution_count": 26,
   "id": "e5284855",
   "metadata": {},
   "outputs": [],
   "source": [
    "df['Aircraft: Number of engines?'] = df['Aircraft: Number of engines?'].astype('int')"
   ]
  },
  {
   "cell_type": "markdown",
   "id": "8fa14779",
   "metadata": {},
   "source": [
    "## Origin State"
   ]
  },
  {
   "cell_type": "code",
   "execution_count": 27,
   "id": "dc6e7e2e",
   "metadata": {},
   "outputs": [
    {
     "data": {
      "text/plain": [
       "449"
      ]
     },
     "execution_count": 27,
     "metadata": {},
     "output_type": "execute_result"
    }
   ],
   "source": [
    "# removing null values since it is small portion of the data\n",
    "df['Origin State'].isnull().sum()"
   ]
  },
  {
   "cell_type": "code",
   "execution_count": 28,
   "id": "c6e6f091",
   "metadata": {},
   "outputs": [],
   "source": [
    "df.dropna(subset=['Origin State'],inplace=True)"
   ]
  },
  {
   "cell_type": "code",
   "execution_count": 29,
   "id": "2226b4d7",
   "metadata": {},
   "outputs": [
    {
     "data": {
      "text/plain": [
       "California    2499\n",
       "Texas         2445\n",
       "Florida       2045\n",
       "New York      1316\n",
       "Illinois      1007\n",
       "Name: Origin State, dtype: int64"
      ]
     },
     "execution_count": 29,
     "metadata": {},
     "output_type": "execute_result"
    }
   ],
   "source": [
    "# most of the flights are from california\n",
    "df['Origin State'].value_counts().head()"
   ]
  },
  {
   "cell_type": "markdown",
   "id": "820514e6",
   "metadata": {},
   "source": [
    "### When: Phase of flight bird struck"
   ]
  },
  {
   "cell_type": "code",
   "execution_count": 30,
   "id": "a30dec17",
   "metadata": {},
   "outputs": [
    {
     "data": {
      "text/plain": [
       "Approach        10227\n",
       "Landing Roll     5004\n",
       "Take-off run     4614\n",
       "Climb            4285\n",
       "Descent           766\n",
       "Taxi               73\n",
       "Parked             10\n",
       "Name: When: Phase of flight, dtype: int64"
      ]
     },
     "execution_count": 30,
     "metadata": {},
     "output_type": "execute_result"
    }
   ],
   "source": [
    "# Most of the birds strike is at Approach phase of the flights\n",
    "df['When: Phase of flight'].value_counts()"
   ]
  },
  {
   "cell_type": "markdown",
   "id": "147ae16b",
   "metadata": {},
   "source": [
    "### Conditions: Precipitation"
   ]
  },
  {
   "cell_type": "code",
   "execution_count": 31,
   "id": "70fc2561",
   "metadata": {},
   "outputs": [
    {
     "data": {
      "text/plain": [
       "None               22990\n",
       "Rain                1328\n",
       "Fog                  475\n",
       "Snow                  88\n",
       "Fog, Rain             85\n",
       "Rain, Snow             6\n",
       "Fog, Snow              4\n",
       "Fog, Rain, Snow        3\n",
       "Name: Conditions: Precipitation, dtype: int64"
      ]
     },
     "execution_count": 31,
     "metadata": {},
     "output_type": "execute_result"
    }
   ],
   "source": [
    "# When sky is clear is when mostly the birds are struck \n",
    "df['Conditions: Precipitation'].value_counts()"
   ]
  },
  {
   "cell_type": "markdown",
   "id": "0d0b229b",
   "metadata": {},
   "source": [
    "### Remains of wildlife collected?"
   ]
  },
  {
   "cell_type": "code",
   "execution_count": 32,
   "id": "e094f363",
   "metadata": {},
   "outputs": [
    {
     "data": {
      "text/plain": [
       "False    18197\n",
       "True      6782\n",
       "Name: Remains of wildlife collected?, dtype: int64"
      ]
     },
     "execution_count": 32,
     "metadata": {},
     "output_type": "execute_result"
    }
   ],
   "source": [
    "# Mostly wildlife is incinerated in the engine \n",
    "df['Remains of wildlife collected?'].value_counts()"
   ]
  },
  {
   "cell_type": "markdown",
   "id": "6444cdcf",
   "metadata": {},
   "source": [
    "## Remains of wildlife sent to Museum"
   ]
  },
  {
   "cell_type": "code",
   "execution_count": 33,
   "id": "ad65f11c",
   "metadata": {
    "scrolled": true
   },
   "outputs": [
    {
     "data": {
      "text/plain": [
       "False    23035\n",
       "True      1944\n",
       "Name: Remains of wildlife sent to Smithsonian, dtype: int64"
      ]
     },
     "execution_count": 33,
     "metadata": {},
     "output_type": "execute_result"
    }
   ],
   "source": [
    "df['Remains of wildlife sent to Smithsonian'].value_counts()"
   ]
  },
  {
   "cell_type": "markdown",
   "id": "ecfdc93f",
   "metadata": {},
   "source": [
    "### Remains of wildlife sent to Museum when no wildlife is collected"
   ]
  },
  {
   "cell_type": "code",
   "execution_count": 34,
   "id": "a7ffbe58",
   "metadata": {},
   "outputs": [
    {
     "data": {
      "text/html": [
       "<div>\n",
       "<style scoped>\n",
       "    .dataframe tbody tr th:only-of-type {\n",
       "        vertical-align: middle;\n",
       "    }\n",
       "\n",
       "    .dataframe tbody tr th {\n",
       "        vertical-align: top;\n",
       "    }\n",
       "\n",
       "    .dataframe thead th {\n",
       "        text-align: right;\n",
       "    }\n",
       "</style>\n",
       "<table border=\"1\" class=\"dataframe\">\n",
       "  <thead>\n",
       "    <tr style=\"text-align: right;\">\n",
       "      <th></th>\n",
       "      <th>Record ID</th>\n",
       "      <th>Airport: Name</th>\n",
       "      <th>Altitude bin</th>\n",
       "      <th>Aircraft: Make/Model</th>\n",
       "      <th>Wildlife: Number struck</th>\n",
       "      <th>Wildlife: Number Struck Actual</th>\n",
       "      <th>Effect: Impact to flight</th>\n",
       "      <th>FlightDate</th>\n",
       "      <th>Effect: Indicated Damage</th>\n",
       "      <th>Aircraft: Number of engines?</th>\n",
       "      <th>Aircraft: Airline/Operator</th>\n",
       "      <th>Origin State</th>\n",
       "      <th>When: Phase of flight</th>\n",
       "      <th>Conditions: Precipitation</th>\n",
       "      <th>Remains of wildlife collected?</th>\n",
       "      <th>Remains of wildlife sent to Smithsonian</th>\n",
       "      <th>Remarks</th>\n",
       "      <th>Wildlife: Size</th>\n",
       "      <th>Conditions: Sky</th>\n",
       "      <th>Wildlife: Species</th>\n",
       "      <th>Pilot warned of birds or wildlife?</th>\n",
       "      <th>Cost: Total $</th>\n",
       "      <th>Feet above ground</th>\n",
       "      <th>Number of people injured</th>\n",
       "      <th>Is Aircraft Large?</th>\n",
       "    </tr>\n",
       "  </thead>\n",
       "  <tbody>\n",
       "    <tr>\n",
       "      <th>2638</th>\n",
       "      <td>259571</td>\n",
       "      <td>FORT LAUDERDALE EXECUTIVE ARPT</td>\n",
       "      <td>&gt; 1000 ft</td>\n",
       "      <td>CIRRUS SR 20/22</td>\n",
       "      <td>2 to 10</td>\n",
       "      <td>9</td>\n",
       "      <td>Precautionary Landing</td>\n",
       "      <td>2008-09-26</td>\n",
       "      <td>Caused damage</td>\n",
       "      <td>1</td>\n",
       "      <td>BUSINESS</td>\n",
       "      <td>Florida</td>\n",
       "      <td>Climb</td>\n",
       "      <td>None</td>\n",
       "      <td>False</td>\n",
       "      <td>True</td>\n",
       "      <td>ID BY SMITHSONIAN VIA PHOTO, FAA2 713. PROP DE...</td>\n",
       "      <td>Medium</td>\n",
       "      <td>Overcast</td>\n",
       "      <td>Anhinga</td>\n",
       "      <td>N</td>\n",
       "      <td>0</td>\n",
       "      <td>2,500</td>\n",
       "      <td>1</td>\n",
       "      <td>No</td>\n",
       "    </tr>\n",
       "  </tbody>\n",
       "</table>\n",
       "</div>"
      ],
      "text/plain": [
       "      Record ID                   Airport: Name Altitude bin  \\\n",
       "2638     259571  FORT LAUDERDALE EXECUTIVE ARPT    > 1000 ft   \n",
       "\n",
       "     Aircraft: Make/Model Wildlife: Number struck  \\\n",
       "2638      CIRRUS SR 20/22                 2 to 10   \n",
       "\n",
       "      Wildlife: Number Struck Actual Effect: Impact to flight FlightDate  \\\n",
       "2638                               9    Precautionary Landing 2008-09-26   \n",
       "\n",
       "     Effect: Indicated Damage  Aircraft: Number of engines?  \\\n",
       "2638            Caused damage                             1   \n",
       "\n",
       "     Aircraft: Airline/Operator Origin State When: Phase of flight  \\\n",
       "2638                   BUSINESS      Florida                 Climb   \n",
       "\n",
       "     Conditions: Precipitation  Remains of wildlife collected?  \\\n",
       "2638                      None                           False   \n",
       "\n",
       "      Remains of wildlife sent to Smithsonian  \\\n",
       "2638                                     True   \n",
       "\n",
       "                                                Remarks Wildlife: Size  \\\n",
       "2638  ID BY SMITHSONIAN VIA PHOTO, FAA2 713. PROP DE...         Medium   \n",
       "\n",
       "     Conditions: Sky Wildlife: Species Pilot warned of birds or wildlife?  \\\n",
       "2638        Overcast           Anhinga                                  N   \n",
       "\n",
       "     Cost: Total $ Feet above ground  Number of people injured  \\\n",
       "2638             0             2,500                         1   \n",
       "\n",
       "     Is Aircraft Large?  \n",
       "2638                 No  "
      ]
     },
     "execution_count": 34,
     "metadata": {},
     "output_type": "execute_result"
    }
   ],
   "source": [
    "# how it can be when no wildlife is recovered it still got sent to the museum \n",
    "df[(df['Remains of wildlife collected?'] == False) & (df['Remains of wildlife sent to Smithsonian'] == True)]"
   ]
  },
  {
   "cell_type": "markdown",
   "id": "f406fd26",
   "metadata": {},
   "source": [
    "##### Remarks by that aircraft"
   ]
  },
  {
   "cell_type": "code",
   "execution_count": 35,
   "id": "a211edd7",
   "metadata": {
    "scrolled": true
   },
   "outputs": [
    {
     "data": {
      "text/plain": [
       "\"ID BY SMITHSONIAN VIA PHOTO, FAA2 713. PROP DE-ICE BOOT ON 2 BLADES WAS DAMAGED, PAINT & POSSIBLE FIBERGLASS DAMAGE ON LWR L ENG COWL. BROKEN WINDSHLD. BIRD ENTERED COCKPIT, STRIKING PILOT'S FACE. HE RECEIVED 4 STITCHES ABOVE EYEBROW. SHEET METAL ROUND LE\""
      ]
     },
     "execution_count": 35,
     "metadata": {},
     "output_type": "execute_result"
    }
   ],
   "source": [
    "df.loc[2638,'Remarks']"
   ]
  },
  {
   "cell_type": "code",
   "execution_count": 36,
   "id": "0cc2185c",
   "metadata": {},
   "outputs": [],
   "source": [
    "# removing outlier \n",
    "df = df[~((df['Remains of wildlife collected?'] == False) & (df['Remains of wildlife sent to Smithsonian'] == True))]"
   ]
  },
  {
   "cell_type": "markdown",
   "id": "15e61de9",
   "metadata": {},
   "source": [
    "## Remarks"
   ]
  },
  {
   "cell_type": "code",
   "execution_count": 37,
   "id": "674c533d",
   "metadata": {},
   "outputs": [
    {
     "data": {
      "text/plain": [
       "17785"
      ]
     },
     "execution_count": 37,
     "metadata": {},
     "output_type": "execute_result"
    }
   ],
   "source": [
    "df['Remarks'].nunique()"
   ]
  },
  {
   "cell_type": "code",
   "execution_count": 38,
   "id": "f8a19dad",
   "metadata": {},
   "outputs": [
    {
     "data": {
      "text/plain": [
       "4665"
      ]
     },
     "execution_count": 38,
     "metadata": {},
     "output_type": "execute_result"
    }
   ],
   "source": [
    "# We can remove these values since its more than 5% of the data so we can just keep it for tooltips in dashboards\n",
    "df.Remarks.isnull().sum()"
   ]
  },
  {
   "cell_type": "markdown",
   "id": "fd62d06b",
   "metadata": {},
   "source": [
    "## Wildlife: Size"
   ]
  },
  {
   "cell_type": "code",
   "execution_count": 39,
   "id": "73639216",
   "metadata": {
    "scrolled": true
   },
   "outputs": [
    {
     "data": {
      "text/plain": [
       "Small     17139\n",
       "Medium     5802\n",
       "Large      2037\n",
       "Name: Wildlife: Size, dtype: int64"
      ]
     },
     "execution_count": 39,
     "metadata": {},
     "output_type": "execute_result"
    }
   ],
   "source": [
    "# Small wildlife is problematic in most of the cases\n",
    "df[\"Wildlife: Size\"].value_counts()"
   ]
  },
  {
   "cell_type": "code",
   "execution_count": 40,
   "id": "b3867ec4",
   "metadata": {},
   "outputs": [
    {
     "data": {
      "text/plain": [
       "<AxesSubplot:xlabel='Wildlife: Size', ylabel='count'>"
      ]
     },
     "execution_count": 40,
     "metadata": {},
     "output_type": "execute_result"
    },
    {
     "data": {
      "image/png": "[encoded data removed]",
      "text/plain": [
       "<Figure size 432x288 with 1 Axes>"
      ]
     },
     "metadata": {
      "needs_background": "light"
     },
     "output_type": "display_data"
    }
   ],
   "source": [
    "# None Imact to flights happens mostly even if the small wildlife struck\n",
    "sns.countplot(data=df, x='Wildlife: Size', hue='Effect: Impact to flight')"
   ]
  },
  {
   "cell_type": "markdown",
   "id": "639016ee",
   "metadata": {},
   "source": [
    "### Conditions: Sky"
   ]
  },
  {
   "cell_type": "code",
   "execution_count": 41,
   "id": "8e886915",
   "metadata": {},
   "outputs": [
    {
     "data": {
      "text/plain": [
       "<AxesSubplot:xlabel='Conditions: Sky', ylabel='count'>"
      ]
     },
     "execution_count": 41,
     "metadata": {},
     "output_type": "execute_result"
    },
    {
     "data": {
      "image/png": "[encoded data removed]",
      "text/plain": [
       "<Figure size 432x288 with 1 Axes>"
      ]
     },
     "metadata": {
      "needs_background": "light"
     },
     "output_type": "display_data"
    }
   ],
   "source": [
    "# Mostly 1 wildlife is struck when sky there are no clouds \n",
    "sns.countplot(data=df, x='Conditions: Sky',hue=\"Wildlife: Number struck\")"
   ]
  },
  {
   "cell_type": "code",
   "execution_count": 42,
   "id": "526fbd6c",
   "metadata": {},
   "outputs": [
    {
     "data": {
      "text/plain": [
       "Unknown bird - small     10180\n",
       "Unknown bird - medium     4169\n",
       "Mourning dove              897\n",
       "European starling          883\n",
       "Unknown bird - large       759\n",
       "Name: Wildlife: Species, dtype: int64"
      ]
     },
     "execution_count": 42,
     "metadata": {},
     "output_type": "execute_result"
    }
   ],
   "source": [
    "# Mourning Dove and European Starling species is mostly recognized in the US \n",
    "df['Wildlife: Species'].value_counts().head()"
   ]
  },
  {
   "cell_type": "markdown",
   "id": "193e3d72",
   "metadata": {},
   "source": [
    "### When no remains of wildlife is collected mostly bird species is unnkown"
   ]
  },
  {
   "cell_type": "code",
   "execution_count": 43,
   "id": "5d6dc8d8",
   "metadata": {},
   "outputs": [
    {
     "data": {
      "text/plain": [
       "Unknown bird - small     9615\n",
       "Unknown bird - medium    4024\n",
       "Unknown bird - large      722\n",
       "European starling         498\n",
       "Mourning dove             418\n",
       "Name: Wildlife: Species, dtype: int64"
      ]
     },
     "execution_count": 43,
     "metadata": {},
     "output_type": "execute_result"
    }
   ],
   "source": [
    "temp = df[df['Remains of wildlife collected?'] == False]\n",
    "temp['Wildlife: Species'].value_counts().head()"
   ]
  },
  {
   "cell_type": "markdown",
   "id": "2c669abd",
   "metadata": {},
   "source": [
    "### Pilot warned of birds or wildlife?"
   ]
  },
  {
   "cell_type": "code",
   "execution_count": 44,
   "id": "dfcbb083",
   "metadata": {
    "scrolled": true
   },
   "outputs": [
    {
     "data": {
      "text/plain": [
       "<AxesSubplot:xlabel='Pilot warned of birds or wildlife?', ylabel='count'>"
      ]
     },
     "execution_count": 44,
     "metadata": {},
     "output_type": "execute_result"
    },
    {
     "data": {
      "image/png": "[encoded data removed]",
      "text/plain": [
       "<Figure size 432x288 with 1 Axes>"
      ]
     },
     "metadata": {
      "needs_background": "light"
     },
     "output_type": "display_data"
    }
   ],
   "source": [
    "# Even when the pilot is not warned still most aiplanes dont run into much problems\n",
    "sns.countplot(data=df, x='Pilot warned of birds or wildlife?',hue='Effect: Impact to flight')"
   ]
  },
  {
   "cell_type": "markdown",
   "id": "46580a47",
   "metadata": {},
   "source": [
    "### Cost: Total $"
   ]
  },
  {
   "cell_type": "code",
   "execution_count": 45,
   "id": "732be5fe",
   "metadata": {},
   "outputs": [],
   "source": [
    "# cleaning 'Cost: Total $' and changing into integer\n",
    "df['Cost: Total $'] = df['Cost: Total $'].str.replace(',','').astype('int')"
   ]
  },
  {
   "cell_type": "code",
   "execution_count": 46,
   "id": "f72ade70",
   "metadata": {},
   "outputs": [
    {
     "data": {
      "text/plain": [
       "<AxesSubplot:xlabel='Cost: Total $', ylabel='Density'>"
      ]
     },
     "execution_count": 46,
     "metadata": {},
     "output_type": "execute_result"
    },
    {
     "data": {
      "image/png": "[encoded data removed]",
      "text/plain": [
       "<Figure size 432x288 with 1 Axes>"
      ]
     },
     "metadata": {
      "needs_background": "light"
     },
     "output_type": "display_data"
    }
   ],
   "source": [
    "# Airplane damage cost because of an impact of birds is negligible is most cases since mostly small birds struck and no action is taken \n",
    "# this is highly skewed data but removing these outliers will loose a lot of information \n",
    "sns.distplot(df['Cost: Total $'])"
   ]
  },
  {
   "cell_type": "markdown",
   "id": "7ff84650",
   "metadata": {},
   "source": [
    "### Feet above ground"
   ]
  },
  {
   "cell_type": "code",
   "execution_count": 47,
   "id": "f71b6202",
   "metadata": {},
   "outputs": [],
   "source": [
    "# cleaning 'Feet above ground' and changing into integer\n",
    "df['Feet above ground'] = df['Feet above ground'].str.replace(',','').astype('int')"
   ]
  },
  {
   "cell_type": "code",
   "execution_count": 48,
   "id": "9eab16b7",
   "metadata": {},
   "outputs": [
    {
     "data": {
      "text/plain": [
       "<AxesSubplot:xlabel='Feet above ground', ylabel='Density'>"
      ]
     },
     "execution_count": 48,
     "metadata": {},
     "output_type": "execute_result"
    },
    {
     "data": {
      "image/png": "[encoded data removed]",
      "text/plain": [
       "<Figure size 432x288 with 1 Axes>"
      ]
     },
     "metadata": {
      "needs_background": "light"
     },
     "output_type": "display_data"
    }
   ],
   "source": [
    "# Birds strikes are higher when A flight is under inspection and engine is running\n",
    "sns.distplot(df['Feet above ground'])"
   ]
  },
  {
   "cell_type": "markdown",
   "id": "ae95ba8b",
   "metadata": {},
   "source": [
    "### Number of people injured"
   ]
  },
  {
   "cell_type": "code",
   "execution_count": 49,
   "id": "0189fd08",
   "metadata": {
    "scrolled": true
   },
   "outputs": [
    {
     "data": {
      "text/plain": [
       "0    24966\n",
       "1        8\n",
       "2        3\n",
       "6        1\n",
       "Name: Number of people injured, dtype: int64"
      ]
     },
     "execution_count": 49,
     "metadata": {},
     "output_type": "execute_result"
    }
   ],
   "source": [
    "# This shows that flights made are mostly made in focus of safety of people and very durable\n",
    "# Also no need to do discretization on this since this is already only have 4 categories\n",
    "df['Number of people injured'].value_counts()"
   ]
  },
  {
   "cell_type": "markdown",
   "id": "4c5943ab",
   "metadata": {},
   "source": [
    "### Is Aircraft Large?"
   ]
  },
  {
   "cell_type": "code",
   "execution_count": 50,
   "id": "1e34d93f",
   "metadata": {
    "scrolled": true
   },
   "outputs": [
    {
     "data": {
      "text/plain": [
       "No     16798\n",
       "Yes     8180\n",
       "Name: Is Aircraft Large?, dtype: int64"
      ]
     },
     "execution_count": 50,
     "metadata": {},
     "output_type": "execute_result"
    }
   ],
   "source": [
    "df['Is Aircraft Large?'].value_counts()"
   ]
  },
  {
   "cell_type": "code",
   "execution_count": 51,
   "id": "17be2530",
   "metadata": {},
   "outputs": [
    {
     "data": {
      "text/plain": [
       "<AxesSubplot:xlabel='Is Aircraft Large?', ylabel='count'>"
      ]
     },
     "execution_count": 51,
     "metadata": {},
     "output_type": "execute_result"
    },
    {
     "data": {
      "image/png": "[encoded data removed]",
      "text/plain": [
       "<Figure size 432x288 with 1 Axes>"
      ]
     },
     "metadata": {
      "needs_background": "light"
     },
     "output_type": "display_data"
    }
   ],
   "source": [
    "# Aircraft with > 1 engines are considered large\n",
    "sns.countplot(data=df, x='Is Aircraft Large?',hue='Aircraft: Number of engines?')"
   ]
  },
  {
   "cell_type": "markdown",
   "id": "e5cd04da",
   "metadata": {},
   "source": [
    "# Checking if everything is right"
   ]
  },
  {
   "cell_type": "code",
   "execution_count": 52,
   "id": "49200b2d",
   "metadata": {
    "scrolled": false
   },
   "outputs": [
    {
     "data": {
      "text/plain": [
       "Record ID                                     0\n",
       "Airport: Name                                 0\n",
       "Altitude bin                                  0\n",
       "Aircraft: Make/Model                          0\n",
       "Wildlife: Number struck                       0\n",
       "Wildlife: Number Struck Actual                0\n",
       "Effect: Impact to flight                      0\n",
       "FlightDate                                    0\n",
       "Effect: Indicated Damage                      0\n",
       "Aircraft: Number of engines?                  0\n",
       "Aircraft: Airline/Operator                    0\n",
       "Origin State                                  0\n",
       "When: Phase of flight                         0\n",
       "Conditions: Precipitation                     0\n",
       "Remains of wildlife collected?                0\n",
       "Remains of wildlife sent to Smithsonian       0\n",
       "Remarks                                    4665\n",
       "Wildlife: Size                                0\n",
       "Conditions: Sky                               0\n",
       "Wildlife: Species                             0\n",
       "Pilot warned of birds or wildlife?            0\n",
       "Cost: Total $                                 0\n",
       "Feet above ground                             0\n",
       "Number of people injured                      0\n",
       "Is Aircraft Large?                            0\n",
       "dtype: int64"
      ]
     },
     "execution_count": 52,
     "metadata": {},
     "output_type": "execute_result"
    }
   ],
   "source": [
    "df.isnull().sum()"
   ]
  },
  {
   "cell_type": "code",
   "execution_count": 53,
   "id": "2c58409a",
   "metadata": {},
   "outputs": [
    {
     "data": {
      "text/plain": [
       "(24978, 25)"
      ]
     },
     "execution_count": 53,
     "metadata": {},
     "output_type": "execute_result"
    }
   ],
   "source": [
    "# Not a lot of values got removed \n",
    "df.shape"
   ]
  },
  {
   "cell_type": "markdown",
   "id": "edf5304f",
   "metadata": {},
   "source": [
    "# Exporting the data"
   ]
  },
  {
   "cell_type": "code",
   "execution_count": 54,
   "id": "e7a19699",
   "metadata": {},
   "outputs": [],
   "source": [
    "df.to_csv('Cleaned_Bird_Strikes.csv')"
   ]
  }
 ],
 "metadata": {
  "kernelspec": {
   "display_name": "Python 3 (ipykernel)",
   "language": "python",
   "name": "python3"
  },
  "language_info": {
   "codemirror_mode": {
    "name": "ipython",
    "version": 3
   },
   "file_extension": ".py",
   "mimetype": "text/x-python",
   "name": "python",
   "nbconvert_exporter": "python",
   "pygments_lexer": "ipython3",
   "version": "3.9.12"
  }
 },
 "nbformat": 4,
 "nbformat_minor": 5
}
